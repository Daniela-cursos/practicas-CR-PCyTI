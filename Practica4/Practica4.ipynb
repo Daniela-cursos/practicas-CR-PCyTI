{
 "cells": [
  {
   "cell_type": "markdown",
   "metadata": {},
   "source": [
    "# Importamos librerías a utilizar"
   ]
  },
  {
   "cell_type": "code",
   "execution_count": 1,
   "metadata": {},
   "outputs": [],
   "source": [
    "#Para crear y análizar redes\n",
    "import networkx as nx\n",
    "#Para dibujar redes y graficar funciones\n",
    "import matplotlib.pyplot as plt\n",
    "#Para leer desde un archivo\n",
    "import pandas as pd \n",
    "import numpy as np\n",
    "#Para generar errores aleatorios\n",
    "import random"
   ]
  },
  {
   "cell_type": "markdown",
   "metadata": {},
   "source": [
    "# Funciones para imprimir la informacion de la red\n",
    "## ACTIVIDAD 1: Información general de la red\n",
    "Coloque la función imprime_informacion que se creo en anteriores prácticas. Esta función imprime la información de la red. Recibe la red G e imprime el numero de nodos, numero de enlaces, diámetro, y densidad de la red G."
   ]
  },
  {
   "cell_type": "code",
   "execution_count": null,
   "metadata": {},
   "outputs": [],
   "source": []
  },
  {
   "cell_type": "markdown",
   "metadata": {},
   "source": [
    "## ACTVIDAD 2: Distribución de grados\n",
    "Coloque la función grafica_distribucion_grados que se creo en anteriores prácticas. Esta funcion grafica la distribucion de grados y en este caso no devuelve nada. Recibe la red G y la variable nombre_dg. Cálcula, imprime y gráfica la distribución de grados. La gráfica la guarda en un archivo png con nombre almacenado en la variable nombre_dg. Devuleve la distribución de grados"
   ]
  },
  {
   "cell_type": "code",
   "execution_count": null,
   "metadata": {},
   "outputs": [],
   "source": []
  },
  {
   "cell_type": "markdown",
   "metadata": {},
   "source": [
    "## ACTIVIDAD 3: Mapa de calor por métrica de centralidad (grado, intermediación, cercanía, PageRank)\n",
    "Modifique la función mapa_calor_grado que se creo en anteriores prácticas, ahora se llamará mapa_calor. La función recibe como parámetros a la red G, la variable nombre_red y la cadena metrica.La función debe crear el mapa de calor de una red por una metrica de centralidad indicada (grado, intermediacion, cercania o PageRank).  Grafica el mapa de calor y lo guarda en un archivo png con el nombre almacenado en nombre_red."
   ]
  },
  {
   "cell_type": "code",
   "execution_count": 2,
   "metadata": {},
   "outputs": [
    {
     "ename": "SyntaxError",
     "evalue": "unexpected EOF while parsing (<ipython-input-2-4ab861d14ae2>, line 1)",
     "output_type": "error",
     "traceback": [
      "\u001b[0;36m  File \u001b[0;32m\"<ipython-input-2-4ab861d14ae2>\"\u001b[0;36m, line \u001b[0;32m1\u001b[0m\n\u001b[0;31m    def mapa_calor(G, nombre_mcalor_grado, metrica):\u001b[0m\n\u001b[0m                                                    ^\u001b[0m\n\u001b[0;31mSyntaxError\u001b[0m\u001b[0;31m:\u001b[0m unexpected EOF while parsing\n"
     ]
    }
   ],
   "source": [
    "def mapa_calor(G, nombre_mcalor_grado, metrica):\n",
    "    "
   ]
  },
  {
   "cell_type": "markdown",
   "metadata": {},
   "source": [
    "# Funciones para análizar la red sometida a fallos o ataques"
   ]
  },
  {
   "cell_type": "markdown",
   "metadata": {},
   "source": [
    "## ACTIVIDAD 4: Número de componentes conectados"
   ]
  },
  {
   "cell_type": "markdown",
   "metadata": {},
   "source": [
    "Coloque la función num_componentes_conectados que se creo en anteriores practica. Esta función recibe como parámetro la red G y devuelve el número de componentes conectados de G. Utilizar los métodos ya diseñados en python para el calculo de componentes conectados de una red, ver https://networkx.org/documentation/stable/reference/algorithms/component.html. "
   ]
  },
  {
   "cell_type": "code",
   "execution_count": null,
   "metadata": {},
   "outputs": [],
   "source": []
  },
  {
   "cell_type": "markdown",
   "metadata": {},
   "source": [
    "## ACTIVIDAD 5: Proporción del componente gigante"
   ]
  },
  {
   "cell_type": "markdown",
   "metadata": {},
   "source": [
    "Coloque la función prop_componente_gigante que se creo en anteriores practicas. Esta función recibe como parámetro la red G y devuelve al proporción de nodos que tiene el componente gigante con respecto a los nodos que tiene G, este valor debe ser un número entre 0 y 1. "
   ]
  },
  {
   "cell_type": "code",
   "execution_count": null,
   "metadata": {},
   "outputs": [],
   "source": []
  },
  {
   "cell_type": "markdown",
   "metadata": {},
   "source": [
    "## ACTIVIDAD 6: Función para graficar 3 funciones en una misma figura\n",
    "Comente lo que sucede en cada línea de código de la función\n",
    "\n",
    "Funcion que grafica 3 funciones en una misma figura. \n",
    "Parámetros:\n",
    "\n",
    "1) titulo : texto\n",
    "\n",
    "2) f1_valores: lista de numeros\n",
    "\n",
    "3) f2_valores: lista de numeros\n",
    "\n",
    "4) f3_valores: lista de numeros\n",
    "\n",
    "5) f1_leyenda: texto\n",
    "\n",
    "6) f2_leyenda: texto\n",
    "\n",
    "7) f3_leyenda: texto\n",
    "\n",
    "8) ejex_etiqueta: texto\n",
    "\n",
    "9) ejey_etiqueta: texto"
   ]
  },
  {
   "cell_type": "code",
   "execution_count": 3,
   "metadata": {},
   "outputs": [],
   "source": [
    "def grafica_funciones(titulo,f1_valores, f2_valores,f3_valores,f1_leyenda, f2_leyenda ,f3_leyenda ,ejex_etiqueta, ejey_etiqueta):\n",
    "    plt.title(titulo)\n",
    "    f1_x = [x / (len(f1_valores)-1) for x in range(len(f1_valores))]\n",
    "    f2_x = [x / (len(f2_valores)-1) for x in range(len(f2_valores))]\n",
    "    f3_x = [x / (len(f3_valores)-1) for x in range(len(f3_valores))]\n",
    "    plt.plot(f1_x, f1_valores, label=f1_leyenda)  \n",
    "    plt.plot(f2_x, f2_valores, label=f2_leyenda)\n",
    "    plt.plot(f3_x, f3_valores, label=f3_leyenda)\n",
    "    plt.xlabel(ejex_etiqueta)\n",
    "    plt.ylabel(ejey_etiqueta)\n",
    "    plt.legend()"
   ]
  },
  {
   "cell_type": "markdown",
   "metadata": {},
   "source": [
    "# Funciones para simular de Errores"
   ]
  },
  {
   "cell_type": "markdown",
   "metadata": {},
   "source": [
    "## ACTIVIDAD 7: Función para simular un error\n",
    "Coloque la función error(G) que se creo en la anterior practica. Esta función simula un error en la red G. La función recibe una red G, elimina un nodo i aleatoreamente. La función devuelve la nueva red G (sin el nodo i)"
   ]
  },
  {
   "cell_type": "code",
   "execution_count": null,
   "metadata": {},
   "outputs": [],
   "source": []
  },
  {
   "cell_type": "markdown",
   "metadata": {},
   "source": [
    "## ACTIVIDAD 8: Función para simular varios errores secuenciales\n",
    "Coloque la función errores_secuenciales(G,num_errores) que se creo en la anterior practica. La función recibe una red G y un entero \"num_errores\", el cuál indica la cantidad de errores que ocurrirán en la red. \n",
    "\n",
    "La función llama secuencialmente \"num_errores\" veces a la función error(G). Después de cada error almacena en un la lista \"num_cc_lista\" el número de componentes conectados de G y en otra lista la proporción del componente gigante \"prop_cg_lista\". Devuleve la tupla (num_cc_lista, prop_cg_lista). Debe utilizar a las funciones creadas en las actividades 4 y 5"
   ]
  },
  {
   "cell_type": "code",
   "execution_count": null,
   "metadata": {},
   "outputs": [],
   "source": []
  },
  {
   "cell_type": "markdown",
   "metadata": {},
   "source": [
    "# Funciones para seleccionar nodos importante de acuerdo a métricas de centralidad"
   ]
  },
  {
   "cell_type": "markdown",
   "metadata": {},
   "source": [
    "## ACTIVIDAD 9: Función para obtener el nodo de grado más alto de una red\n",
    "Coloque la función nodo_mayor_grado(G) que fue creada en la anterior práctica. Esta función recibe la red G y devuelve el nodo de mayor grado. "
   ]
  },
  {
   "cell_type": "code",
   "execution_count": null,
   "metadata": {},
   "outputs": [],
   "source": []
  },
  {
   "cell_type": "markdown",
   "metadata": {},
   "source": [
    "## ACTIVIDAD 10: Función para obtener el nodo de intermediación más alta de una red\n",
    "Complete la función nodo_mayor_intermediacion(G) que recibe la red G y devuelve el nodo de mayor intermediacion. Utilice la función de NetworkX para calcular la intermediación https://networkx.org/documentation/stable/reference/algorithms/generated/networkx.algorithms.centrality.betweenness_centrality.html"
   ]
  },
  {
   "cell_type": "code",
   "execution_count": 4,
   "metadata": {},
   "outputs": [],
   "source": [
    "def nodo_mayor_intermediacion(G):\n",
    "\n",
    "    return nodo_max_int"
   ]
  },
  {
   "cell_type": "markdown",
   "metadata": {},
   "source": [
    "## ACTIVIDAD 11: Función para obtener el nodo de cercanía más alta de una red\n",
    "Complete la función nodo_mayor_cercania(G) que recibe la red G y devuelve el nodo de mayor cercania. Utilice la función de NetworkX para calcular la cercanía https://networkx.org/documentation/stable/reference/algorithms/generated/networkx.algorithms.centrality.closeness_centrality.html"
   ]
  },
  {
   "cell_type": "code",
   "execution_count": 5,
   "metadata": {},
   "outputs": [],
   "source": [
    "def nodo_mayor_cercania(G):\n",
    "\n",
    "    return nodo_max_cer"
   ]
  },
  {
   "cell_type": "markdown",
   "metadata": {},
   "source": [
    "## ACTIVIDAD 12: Función para obtener el nodo con PageRank más alto de una red\n",
    "Complete la función nodo_mayor_PageRank(G) que recibe la red G y devuelve el nodo de mayor PageRank. utilice la función de NetworkX para calcular el PageRank https://networkx.org/documentation/stable/reference/algorithms/generated/networkx.algorithms.link_analysis.pagerank_alg.pagerank.html#networkx.algorithms.link_analysis.pagerank_alg.pagerank"
   ]
  },
  {
   "cell_type": "code",
   "execution_count": 6,
   "metadata": {},
   "outputs": [],
   "source": [
    "def nodo_mayor_PageRank(G):\n",
    "\n",
    "    return nodo_max_pr"
   ]
  },
  {
   "cell_type": "markdown",
   "metadata": {},
   "source": [
    "# Funciones para simular de Ataques"
   ]
  },
  {
   "cell_type": "markdown",
   "metadata": {},
   "source": [
    "## ACTIVIDAD 13: Función para simular un ataque con base en alguna métrica de centralidad (grado, intermediación, cercanía, PageRank)\n",
    "Modifique la función ataque que se creo en la anterior practica. Ahora la función se llamará ataque(G, tipo) y debe simular un ataque en la red G, por alguna métrica de centralidad. La función recibe una red G y una cadena tipo que puede ser \"grado\", \"cercania\", \"intermediacion\", \"PageRank\". La función elimina el nodo i con más valor en la metrica indicada en la cadena tipo. Devuelve la nueva red G sin el nodo i. Debe utilizar las funciones de la actividad 9 a la 12."
   ]
  },
  {
   "cell_type": "code",
   "execution_count": 7,
   "metadata": {},
   "outputs": [],
   "source": [
    "def ataque(G, tipo):\n",
    "\n",
    "    return G"
   ]
  },
  {
   "cell_type": "markdown",
   "metadata": {},
   "source": [
    "## ACTIVIDAD 14: Función para simular varios ataques secuenciales\n",
    "Modifique la función ataques_secuenciales que se creo en la anterior práctica. Ahora la función recibe una red G, un entero \"num_ataques\" que indica la cantidad de ataques que ocurrirán en la red y una cadena \"tipo\" que puede ser \"grado\", \"cercania\", \"intermediacion\", \"pageRank\". La función secuencialmente llama \"num_ataques\" veces a la función ataque(G, tipo). Después de cada ataque almacena en una lista \"num_cc_lista\" el número de componentes conectados de G y en otra lista \"prop_cg_lista\" la proporción del componente gigante. Devuleve la tupla (num_cc_lista, prop_cg_lista)."
   ]
  },
  {
   "cell_type": "code",
   "execution_count": 8,
   "metadata": {},
   "outputs": [],
   "source": [
    "def ataques_secuenciales(G,num_ataques, tipo):\n",
    "\n",
    "    return (num_cc_lista, prop_cg_lista)"
   ]
  },
  {
   "cell_type": "markdown",
   "metadata": {},
   "source": [
    "# Análisis de redes de páginas web, redes sociales, redes de computadoras y redes de infraestructura"
   ]
  },
  {
   "cell_type": "markdown",
   "metadata": {},
   "source": [
    "## ACTIVIDAD 15: Importamos las 5 redes definidas en los archivos de la carpeta redes\n",
    "La siguiente función importa una red a partir de un archivo que contiene su lista de enlaces y en donde los datos están separados por tabulador. importe las 4 redes restantes"
   ]
  },
  {
   "cell_type": "code",
   "execution_count": 9,
   "metadata": {},
   "outputs": [],
   "source": [
    "net_web = nx.read_edgelist(path=\"redes/web-edu.mtx\", delimiter=\"\\t\")"
   ]
  },
  {
   "cell_type": "code",
   "execution_count": null,
   "metadata": {},
   "outputs": [],
   "source": []
  },
  {
   "cell_type": "code",
   "execution_count": null,
   "metadata": {},
   "outputs": [],
   "source": []
  },
  {
   "cell_type": "code",
   "execution_count": null,
   "metadata": {},
   "outputs": [],
   "source": []
  },
  {
   "cell_type": "code",
   "execution_count": null,
   "metadata": {},
   "outputs": [],
   "source": []
  },
  {
   "cell_type": "markdown",
   "metadata": {},
   "source": [
    "## ACTIVIDAD 16: Imprime la información de las redes importadas\n",
    "Llame a la función imprime_información (actividad 1) para imprimir la información de la 5 redes importadas"
   ]
  },
  {
   "cell_type": "code",
   "execution_count": null,
   "metadata": {},
   "outputs": [],
   "source": []
  },
  {
   "cell_type": "code",
   "execution_count": null,
   "metadata": {},
   "outputs": [],
   "source": []
  },
  {
   "cell_type": "code",
   "execution_count": null,
   "metadata": {},
   "outputs": [],
   "source": []
  },
  {
   "cell_type": "code",
   "execution_count": null,
   "metadata": {},
   "outputs": [],
   "source": []
  },
  {
   "cell_type": "code",
   "execution_count": null,
   "metadata": {},
   "outputs": [],
   "source": []
  },
  {
   "cell_type": "markdown",
   "metadata": {},
   "source": [
    "## ACTIVIDAD 17: Distribución de grados\n",
    "Llama a la función para graficar las distribucion de grados (actividad 2) de las redes creadas y guarda las imagenes obtenidas. Cada función llamela en una celda separada de código para que así pueda visualizar todas las figuras"
   ]
  },
  {
   "cell_type": "code",
   "execution_count": null,
   "metadata": {},
   "outputs": [],
   "source": []
  },
  {
   "cell_type": "code",
   "execution_count": null,
   "metadata": {},
   "outputs": [],
   "source": []
  },
  {
   "cell_type": "code",
   "execution_count": null,
   "metadata": {
    "scrolled": true
   },
   "outputs": [],
   "source": []
  },
  {
   "cell_type": "code",
   "execution_count": null,
   "metadata": {
    "scrolled": true
   },
   "outputs": [],
   "source": []
  },
  {
   "cell_type": "code",
   "execution_count": null,
   "metadata": {},
   "outputs": [],
   "source": []
  },
  {
   "cell_type": "markdown",
   "metadata": {},
   "source": [
    "## ACTIVIDAD 18: Mapas de calor por grado nodal\n",
    "Llama a la función para graficar los mapas de calor (actividad 3) por grado nodal de las redes creadas y guarde las imágenes obtenidas. Cada función llamela en una celda separada de código para que así pueda visualizar todas figuras"
   ]
  },
  {
   "cell_type": "code",
   "execution_count": null,
   "metadata": {
    "scrolled": true
   },
   "outputs": [],
   "source": []
  },
  {
   "cell_type": "code",
   "execution_count": null,
   "metadata": {
    "scrolled": false
   },
   "outputs": [],
   "source": []
  },
  {
   "cell_type": "code",
   "execution_count": null,
   "metadata": {
    "scrolled": false
   },
   "outputs": [],
   "source": []
  },
  {
   "cell_type": "code",
   "execution_count": null,
   "metadata": {
    "scrolled": false
   },
   "outputs": [],
   "source": []
  },
  {
   "cell_type": "code",
   "execution_count": null,
   "metadata": {
    "scrolled": true
   },
   "outputs": [],
   "source": []
  },
  {
   "cell_type": "markdown",
   "metadata": {},
   "source": [
    "## ACTIVIDAD 19: Mapas de calor por intermediación\n",
    "Llama a la función para graficar los mapas de calor (actividad 3) por intermediación de las redes creadas y guarde las imágenes obtenidas. Cada función llamela en una celda separada de código para que así pueda visualizar todas las figuras"
   ]
  },
  {
   "cell_type": "code",
   "execution_count": null,
   "metadata": {
    "scrolled": true
   },
   "outputs": [],
   "source": []
  },
  {
   "cell_type": "code",
   "execution_count": null,
   "metadata": {
    "scrolled": false
   },
   "outputs": [],
   "source": []
  },
  {
   "cell_type": "code",
   "execution_count": null,
   "metadata": {
    "scrolled": false
   },
   "outputs": [],
   "source": []
  },
  {
   "cell_type": "code",
   "execution_count": null,
   "metadata": {
    "scrolled": false
   },
   "outputs": [],
   "source": []
  },
  {
   "cell_type": "code",
   "execution_count": null,
   "metadata": {
    "scrolled": true
   },
   "outputs": [],
   "source": []
  },
  {
   "cell_type": "markdown",
   "metadata": {},
   "source": [
    "## ACTIVIDAD 20: Mapas de calor por cercanía\n",
    "Llama a la función para graficar los mapas de calor (actividad 3) por cercanía de las redes creadas y guarde las imágenes obtenidas. Cada función llamela en una celda separada de código para que así pueda visualizar todas las figuras"
   ]
  },
  {
   "cell_type": "code",
   "execution_count": null,
   "metadata": {
    "scrolled": true
   },
   "outputs": [],
   "source": []
  },
  {
   "cell_type": "code",
   "execution_count": null,
   "metadata": {
    "scrolled": false
   },
   "outputs": [],
   "source": []
  },
  {
   "cell_type": "code",
   "execution_count": null,
   "metadata": {
    "scrolled": false
   },
   "outputs": [],
   "source": []
  },
  {
   "cell_type": "code",
   "execution_count": null,
   "metadata": {
    "scrolled": false
   },
   "outputs": [],
   "source": []
  },
  {
   "cell_type": "code",
   "execution_count": null,
   "metadata": {
    "scrolled": true
   },
   "outputs": [],
   "source": []
  },
  {
   "cell_type": "markdown",
   "metadata": {},
   "source": [
    "## ACTIVIDAD 21: Mapas de calor por PageRank\n",
    "Llama a la función para graficar los mapas de calor (actividad 3) por PageRank de las redes creadas y guarde las imágenes obtenidas. Cada función llamela en una celda separada de código para que así pueda visualizar todas las figuras"
   ]
  },
  {
   "cell_type": "code",
   "execution_count": null,
   "metadata": {
    "scrolled": true
   },
   "outputs": [],
   "source": []
  },
  {
   "cell_type": "code",
   "execution_count": null,
   "metadata": {
    "scrolled": false
   },
   "outputs": [],
   "source": []
  },
  {
   "cell_type": "code",
   "execution_count": null,
   "metadata": {
    "scrolled": false
   },
   "outputs": [],
   "source": []
  },
  {
   "cell_type": "code",
   "execution_count": null,
   "metadata": {
    "scrolled": false
   },
   "outputs": [],
   "source": []
  },
  {
   "cell_type": "code",
   "execution_count": null,
   "metadata": {
    "scrolled": true
   },
   "outputs": [],
   "source": []
  },
  {
   "cell_type": "markdown",
   "metadata": {},
   "source": [
    "# Evaluación de redes sometidas a errores - Red de páginas web, red de routers, red del metro"
   ]
  },
  {
   "cell_type": "markdown",
   "metadata": {},
   "source": [
    "## Simulación de errores secuenciales en la red de páginas web\n",
    "Utilizando la función errores_secuenciales simula n-1 errores en la red de páginas web, donde n es el número de nodos de la red. Almacena las listas de: cantidad de componentes conectados y las proporcion del componente gigante. Nota que debe hacerce una copia de la red y esa copia es la que se somete a errores"
   ]
  },
  {
   "cell_type": "code",
   "execution_count": 144,
   "metadata": {},
   "outputs": [],
   "source": [
    "net_web_test = net_web.copy()\n",
    "n = len(net_web.nodes())\n",
    "(web_num_cc, web_tam_cg) = errores_secuenciales(net_web_test, n-1)"
   ]
  },
  {
   "cell_type": "markdown",
   "metadata": {},
   "source": [
    "## ACTIVIDAD 22: Simulación de errores secuenciales en la red de routers\n",
    "Utilizando la función errores_secuenciales simula n-1 errores en la red de routers, donde n es el número de nodos de la red. Almacena las listas de: cantidad de componentes conectados y las proporcion del componente gigante. Nota que debe hacerce una copia de la red y esa copia es la que se somete a errores"
   ]
  },
  {
   "cell_type": "code",
   "execution_count": null,
   "metadata": {},
   "outputs": [],
   "source": []
  },
  {
   "cell_type": "markdown",
   "metadata": {},
   "source": [
    "## ACTIVIDAD 23: Simulación de errores secuenciales en la red del metro\n",
    "Utilizando la función errores_secuenciales simula n-1 errores en la red del metro de la CDMX, donde n es el número de nodos de la red. Almacena las listas de: cantidad de componentes conectados y las proporcion del componente gigante. Nota que debe hacerce una copia de la red y esa copia es la que se somete a errores"
   ]
  },
  {
   "cell_type": "code",
   "execution_count": null,
   "metadata": {},
   "outputs": [],
   "source": []
  },
  {
   "cell_type": "markdown",
   "metadata": {},
   "source": [
    "## ACTIVIDAD 24: Grafica de los componentes conectados vs. número de errores\n",
    "Utilizando la función grafica_funciones, grafique la cantidad de componentes conectados vs el número de errroes para las pruebas realizadas sobre la redes de páginas web, routers y metro"
   ]
  },
  {
   "cell_type": "code",
   "execution_count": null,
   "metadata": {
    "scrolled": true
   },
   "outputs": [],
   "source": []
  },
  {
   "cell_type": "markdown",
   "metadata": {},
   "source": [
    "## ACTIVIDAD 25: Grafica de la proporción del componente gigante vs. número de errores\n",
    "Utilizando la función grafica_funciones, grafique la proporción del componente gigante vs el número de errrores para las pruebas realizadas sobre la red web, routers y metro"
   ]
  },
  {
   "cell_type": "code",
   "execution_count": null,
   "metadata": {
    "scrolled": true
   },
   "outputs": [],
   "source": []
  },
  {
   "cell_type": "markdown",
   "metadata": {},
   "source": [
    "# Evaluación de redes sometidas a ataques por grado- Red de páginas web, red de routers, red del metro"
   ]
  },
  {
   "cell_type": "markdown",
   "metadata": {},
   "source": [
    "## Simulación de ataques secuenciales en la red de páginas web\n",
    "Utilizando la función ataques_secuenciales simula n-1 ataques por grado nodal en la red de páginas web, donde n es el número de nodos de la red. Almacena las listas de: cantidad de componentes conectados y las proporcion del componente gigante. Nota que debe hacerce una copia de la red y esa copia es la que se somete a ataques."
   ]
  },
  {
   "cell_type": "code",
   "execution_count": 150,
   "metadata": {},
   "outputs": [],
   "source": [
    "net_web_test = net_web.copy()\n",
    "n = len(net_web.nodes())\n",
    "(web_num_cc, web_tam_cg) = ataques_secuenciales(net_web_test, n-1, \"grado\")"
   ]
  },
  {
   "cell_type": "markdown",
   "metadata": {},
   "source": [
    "## ACTIVIDAD 26: Simulación de ataques secuenciales en la red de routers\n",
    "Utilizando la función ataques_secuenciales simula n-1 ataques por grado nodal en la red de routers, donde n es el número de nodos de la red. Almacena las listas de: cantidad de componentes conectados y las proporcion del componente gigante. Nota que debe hacerce una copia de la red y esa copia es la que se somete a ataques."
   ]
  },
  {
   "cell_type": "code",
   "execution_count": null,
   "metadata": {},
   "outputs": [],
   "source": []
  },
  {
   "cell_type": "markdown",
   "metadata": {},
   "source": [
    "## ACTIVIDAD 27: Simulación de ataques secuenciales en la red del metro\n",
    "Utilizando la función ataques_secuenciales simula n-1 ataques por grado nodal en la red del metro de la CDMX, donde n es el número de nodos de la red. Almacena las listas de: cantidad de componentes conectados y las proporcion del componente gigante. Nota que debe hacerce una copia de la red y esa copia es la que se somete a ataques."
   ]
  },
  {
   "cell_type": "code",
   "execution_count": null,
   "metadata": {},
   "outputs": [],
   "source": []
  },
  {
   "cell_type": "markdown",
   "metadata": {},
   "source": [
    "## ACTIVIDAD 28: Grafica de los componentes conectados vs. número de ataques\n",
    "Utilizando la función grafica_funciones, grafique la cantidad de componentes conectados vs el número de ataques para las pruebas realizadas sobre la redes de páginas web, routers y metro"
   ]
  },
  {
   "cell_type": "code",
   "execution_count": null,
   "metadata": {
    "scrolled": true
   },
   "outputs": [],
   "source": []
  },
  {
   "cell_type": "markdown",
   "metadata": {},
   "source": [
    "## ACTIVIDAD 29: Grafica de la proporción del componente gigante vs. número de ataques\n",
    "Utilizando la función grafica_funciones, grafique la proporción del componente gigante vs el número de ataques por grado para las pruebas realizadas sobre la red web, routers y metro."
   ]
  },
  {
   "cell_type": "code",
   "execution_count": null,
   "metadata": {
    "scrolled": false
   },
   "outputs": [],
   "source": []
  },
  {
   "cell_type": "markdown",
   "metadata": {},
   "source": [
    "# Evaluación de redes sometidas a ataques por intermediación- Red de coautorias, red de retweets, red del metro"
   ]
  },
  {
   "cell_type": "markdown",
   "metadata": {},
   "source": [
    "## ACTIVIDAD 30: Simulación de ataques secuenciales en la red de páginas web\n",
    "Utilizando la función ataques_secuenciales simula que n-1 nodos son atacados por intermediación en la red de páginas web, donde n es el número de nodos de la red. Almacena las listas de: cantidad de componentes conectados y las proporcion del componente gigante. Nota que debe hacerce una copia de la red y esa copia es la que se somete a ataques."
   ]
  },
  {
   "cell_type": "code",
   "execution_count": null,
   "metadata": {},
   "outputs": [],
   "source": []
  },
  {
   "cell_type": "markdown",
   "metadata": {},
   "source": [
    "## ACTIVIDAD 31: Simulación de ataques secuenciales en la red de retweets\n",
    "Utilizando la función ataques_secuenciales simula n-1 ataques por intermediacion en la red de retweets, donde n es el número de nodos de la red. Almacena las listas de: cantidad de componentes conectados y las proporcion del componente gigante. Nota que debe hacerce una copia de la red y esa copia es la que se somete a ataques."
   ]
  },
  {
   "cell_type": "code",
   "execution_count": null,
   "metadata": {},
   "outputs": [],
   "source": []
  },
  {
   "cell_type": "markdown",
   "metadata": {},
   "source": [
    "## ACTIVIDAD 32: Simulación de ataques secuenciales en la red del metro\n",
    "Utilizando la función ataques_secuenciales simula (n-1)/3 ataques por intermediacion en la red del metro de la CDMX, donde n es el número de nodos de la red. Almacena las listas de: cantidad de componentes conectados y las proporcion del componente gigante. Nota que debe hacerce una copia de la red y esa copia es la que se somete a ataques."
   ]
  },
  {
   "cell_type": "code",
   "execution_count": null,
   "metadata": {},
   "outputs": [],
   "source": []
  },
  {
   "cell_type": "markdown",
   "metadata": {},
   "source": [
    "## ACTIVIDAD 33: Grafica de los componentes conectados vs. número de ataques\n",
    "Utilizando la función grafica_funciones, grafique la cantidad de componentes conectados vs el número de ataques para las pruebas realizadas sobre la redes de páginas web, routers y metro"
   ]
  },
  {
   "cell_type": "code",
   "execution_count": null,
   "metadata": {
    "scrolled": true
   },
   "outputs": [],
   "source": []
  },
  {
   "cell_type": "markdown",
   "metadata": {},
   "source": [
    "## ACTIVIDAD 34: Grafica de la proporción del componente gigante vs. número de ataques\n",
    "Utilizando la función grafica_funciones, grafique la proporción del componente gigante vs el número de ataques por grado para las pruebas realizadas sobre la red web, routers y metro"
   ]
  },
  {
   "cell_type": "code",
   "execution_count": null,
   "metadata": {
    "scrolled": true
   },
   "outputs": [],
   "source": []
  },
  {
   "cell_type": "markdown",
   "metadata": {},
   "source": [
    "# Evaluación de redes sometidas a ataques por cercanía- Red de coautorias, red de retweets, red del metro"
   ]
  },
  {
   "cell_type": "markdown",
   "metadata": {},
   "source": [
    "## ACTIVIDAD 35: Simulación de ataques secuenciales en la red de páginas web\n",
    "Utilizando la función ataques_secuenciales simula que n-1 nodos son atacados por cercanía en la red de páginas web, donde n es el número de nodos de la red. Almacena las listas de: cantidad de componentes conectados y las proporcion del componente gigante.Nota que debe hacerce una copia de la red y esa copia es la que se somete a ataques."
   ]
  },
  {
   "cell_type": "code",
   "execution_count": null,
   "metadata": {},
   "outputs": [],
   "source": []
  },
  {
   "cell_type": "markdown",
   "metadata": {},
   "source": [
    "## ACTIVIDAD 36: Simulación de ataques secuenciales en la red de retweets\n",
    "Utilizando la función ataques_secuenciales simula n-1 ataques por cercanía en la red de retweets, donde n es el número de nodos de la red. Almacena las listas de: cantidad de componentes conectados y las proporcion del componente gigante. Nota que debe hacerce una copia de la red y esa copia es la que se somete a ataques."
   ]
  },
  {
   "cell_type": "code",
   "execution_count": null,
   "metadata": {},
   "outputs": [],
   "source": []
  },
  {
   "cell_type": "markdown",
   "metadata": {},
   "source": [
    "## ACTIVIDAD 37: Simulación de ataques secuenciales en la red del metro\n",
    "Utilizando la función ataques_secuenciales simula (n-1)/3 ataques por cercania en la red del metro de la CDMX, donde n es el número de nodos de la red. Almacena las listas de: cantidad de componentes conectados y las proporcion del componente gigante. Nota que debe hacerce una copia de la red y esa copia es la que se somete a ataques."
   ]
  },
  {
   "cell_type": "code",
   "execution_count": null,
   "metadata": {},
   "outputs": [],
   "source": []
  },
  {
   "cell_type": "markdown",
   "metadata": {},
   "source": [
    "## ACTIVIDAD 38: Grafica de los componentes conectados vs. número de ataques\n",
    "Utilizando la función grafica_funciones, grafique la cantidad de componentes conectados vs el número de ataques para las pruebas realizadas sobre la redes de páginas web, routers y metro"
   ]
  },
  {
   "cell_type": "code",
   "execution_count": null,
   "metadata": {
    "scrolled": true
   },
   "outputs": [],
   "source": []
  },
  {
   "cell_type": "markdown",
   "metadata": {},
   "source": [
    "## ACTIVIDAD 39: Grafica de la proporción del componente gigante vs. número de ataques\n",
    "Utilizando la función grafica_funciones, grafique la proporción del componente gigante vs el número de ataques por grado para las pruebas realizadas sobre la red web, routers y metro"
   ]
  },
  {
   "cell_type": "code",
   "execution_count": null,
   "metadata": {
    "scrolled": false
   },
   "outputs": [],
   "source": []
  },
  {
   "cell_type": "markdown",
   "metadata": {},
   "source": [
    "# Evaluación de redes sometidas a ataques por PageRank- Red de coautorias, red de retweets, red del metro"
   ]
  },
  {
   "cell_type": "markdown",
   "metadata": {},
   "source": [
    "## ACTIVIDAD 40: Simulación de ataques secuenciales en la red de páginas web\n",
    "Utilizando la función ataques_secuenciales simula que n-1 nodos son atacados por PageRank en la red de páginas web, donde n es el número de nodos de la red. Almacena las listas de: cantidad de componentes conectados y las proporcion del componente gigante. Nota que debe hacerce una copia de la red y esa copia es la que se somete a ataques."
   ]
  },
  {
   "cell_type": "code",
   "execution_count": null,
   "metadata": {},
   "outputs": [],
   "source": []
  },
  {
   "cell_type": "markdown",
   "metadata": {},
   "source": [
    "## ACTIVIDAD 41: Simulación de ataques secuenciales en la red de retweets\n",
    "Utilizando la función ataques_secuenciales simula n-1 ataques por PageRank en la red de retweets, donde n es el número de nodos de la red. Almacena las listas de: cantidad de componentes conectados y las proporcion del componente gigante. Nota que debe hacerce una copia de la red y esa copia es la que se somete a ataques."
   ]
  },
  {
   "cell_type": "code",
   "execution_count": null,
   "metadata": {},
   "outputs": [],
   "source": []
  },
  {
   "cell_type": "markdown",
   "metadata": {},
   "source": [
    "## ACTIVIDAD 42: Simulación de ataques secuenciales en la red del metro\n",
    "Utilizando la función ataques_secuenciales simula n-1 ataques por PageRank en la red del metro de la CDMX, donde n es el número de nodos de la red. Almacena las listas de: cantidad de componentes conectados y las proporcion del componente gigante. Nota que debe hacerce una copia de la red y esa copia es la que se somete a ataques."
   ]
  },
  {
   "cell_type": "code",
   "execution_count": null,
   "metadata": {},
   "outputs": [],
   "source": []
  },
  {
   "cell_type": "markdown",
   "metadata": {},
   "source": [
    "## ACTIVIDAD 43: Grafica de los componentes conectados vs. número de ataques\n",
    "Utilizando la función grafica_funciones, grafique la cantidad de componentes conectados vs el número de ataques para las pruebas realizadas sobre la redes de páginas web, routers y metro"
   ]
  },
  {
   "cell_type": "code",
   "execution_count": null,
   "metadata": {
    "scrolled": true
   },
   "outputs": [],
   "source": []
  },
  {
   "cell_type": "markdown",
   "metadata": {},
   "source": [
    "## ACTIVIDAD 44: Grafica de la proporción del componente gigante vs. número de ataques\n",
    "Utilizando la función grafica_funciones, grafique la proporción del componente gigante vs el número de ataques por grado para las pruebas realizadas sobre la red web, routers y metro"
   ]
  },
  {
   "cell_type": "code",
   "execution_count": null,
   "metadata": {
    "scrolled": false
   },
   "outputs": [],
   "source": []
  }
 ],
 "metadata": {
  "kernelspec": {
   "display_name": "Python 3",
   "language": "python",
   "name": "python3"
  },
  "language_info": {
   "codemirror_mode": {
    "name": "ipython",
    "version": 3
   },
   "file_extension": ".py",
   "mimetype": "text/x-python",
   "name": "python",
   "nbconvert_exporter": "python",
   "pygments_lexer": "ipython3",
   "version": "3.8.5"
  }
 },
 "nbformat": 4,
 "nbformat_minor": 4
}
