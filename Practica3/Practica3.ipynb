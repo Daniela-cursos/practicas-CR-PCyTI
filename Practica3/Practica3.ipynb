{
 "cells": [
  {
   "cell_type": "markdown",
   "metadata": {},
   "source": [
    "# Importamos librerías a utilizar"
   ]
  },
  {
   "cell_type": "code",
   "execution_count": 1,
   "metadata": {},
   "outputs": [],
   "source": [
    "#Para crear y análizar redes\n",
    "import networkx as nx\n",
    "#Para dibujar redes y graficar funciones\n",
    "import matplotlib.pyplot as plt\n",
    "#Para leer desde un archivo\n",
    "import pandas as pd \n",
    "import numpy as np\n",
    "#Para generar errores aleatorios\n",
    "import random"
   ]
  },
  {
   "cell_type": "markdown",
   "metadata": {},
   "source": [
    "# Funciones para imprimir la informacion de la red\n",
    "## ACTIVIDAD 1: Información general de la red\n",
    "Coloque la función imprime_informacion. Esta función imprime la información de la red. Recibe la red G e imprime el numero de nodos, numero de enlaces, diámetro, y densidad de la red G."
   ]
  },
  {
   "cell_type": "code",
   "execution_count": null,
   "metadata": {},
   "outputs": [],
   "source": []
  },
  {
   "cell_type": "markdown",
   "metadata": {},
   "source": [
    "## ACTVIDAD 2: Distribución de grados\n",
    "Coloque la función grafica_distribucion_grados. Esta funcion grafica la distribucion de grados. Recibe la red G y la variable nombre_dg. Cálcula, imprime y gráfica la distribución de grados. La gráfica la guarda en un archivo png con nombre almacenado en la variable nombre_dg. Devuleve la distribución de grados"
   ]
  },
  {
   "cell_type": "code",
   "execution_count": null,
   "metadata": {},
   "outputs": [],
   "source": []
  },
  {
   "cell_type": "markdown",
   "metadata": {},
   "source": [
    "# ACTIVIDAD 3: Mapa de calor por grado nodal\n",
    "Coloque la función mapa_calor_grado. Esta función gráfica el mapa de calor de la red G. Recibe como parámetros a la red G y la variable nombre_red. Grafica el mapa de calor y lo guarda en un archivo png con el nombre alamcenado en nombre_red."
   ]
  },
  {
   "cell_type": "code",
   "execution_count": null,
   "metadata": {},
   "outputs": [],
   "source": []
  },
  {
   "cell_type": "markdown",
   "metadata": {},
   "source": [
    "# Funciones para análizar la red sometida a fallos o ataques"
   ]
  },
  {
   "cell_type": "markdown",
   "metadata": {},
   "source": [
    "## ACTIVIDAD 4: Número de componentes conectado"
   ]
  },
  {
   "cell_type": "markdown",
   "metadata": {},
   "source": [
    "Cree una función llamada num_componentes_conectados que recibe como parámetro la red G y devuelve el número de componentes conectados de G.Utilizar los métodos ya diseñados en python para el calculo de componentes conectados de una red, ver https://networkx.org/documentation/stable/reference/algorithms/component.html. "
   ]
  },
  {
   "cell_type": "code",
   "execution_count": null,
   "metadata": {},
   "outputs": [],
   "source": [
    "def num_componentes_conectados(G):\n",
    "    \n",
    "    return num_cc"
   ]
  },
  {
   "cell_type": "markdown",
   "metadata": {},
   "source": [
    "## ACTIVIDAD 5: Proporción del componente gigante"
   ]
  },
  {
   "cell_type": "markdown",
   "metadata": {},
   "source": [
    "Cree una función llamada prop_componente_gigante que recibe como parámetro la red G y devuelve al proporción de nodos que tiene el componente gigante con respecto a los nodos que tiene G. Utilizar los métodos ya diseñados en python para el calculo de componentes conectados de una red, ver https://networkx.org/documentation/stable/reference/algorithms/component.html. Recuerde que la función len(A) le permite calcular el número de elementos en un conjunto o lista A."
   ]
  },
  {
   "cell_type": "code",
   "execution_count": null,
   "metadata": {},
   "outputs": [],
   "source": [
    "def prop_componente_gigante(G):\n",
    "\n",
    "    return pcg"
   ]
  },
  {
   "cell_type": "markdown",
   "metadata": {},
   "source": [
    "## ACTIVIDAD 6: Graficar dos funciones en una misma figura\n",
    "Funcion que grafica dos funciones en una misma figura. Comente lo que ocurre en cada línea de código de la función\n",
    "\n",
    "Parámetros:\n",
    "\n",
    "1) titulo : texto\n",
    "\n",
    "2) f1_valores: lista de numeros\n",
    "\n",
    "3) f2_valores: lista de numeros\n",
    "\n",
    "4) f1_leyenda: texto\n",
    "\n",
    "5) f2_leyenda: texto\n",
    "\n",
    "6) ejex_etiqueta: texto\n",
    "\n",
    "7) ejey_etiqueta: texto"
   ]
  },
  {
   "cell_type": "code",
   "execution_count": 2,
   "metadata": {},
   "outputs": [],
   "source": [
    "def grafica_funciones(titulo,f1_valores, f2_valores,f1_leyenda, f2_leyenda ,ejex_etiqueta, ejey_etiqueta):\n",
    "    plt.title(titulo)\n",
    "    plt.plot(f1_valores, label=f1_leyenda)  \n",
    "    plt.plot(f2_valores, label=f2_leyenda)\n",
    "    plt.xlabel(ejex_etiqueta)\n",
    "    plt.ylabel(ejey_etiqueta)\n",
    "    plt.legend()"
   ]
  },
  {
   "cell_type": "markdown",
   "metadata": {},
   "source": [
    "# Funciones para simular de Errores"
   ]
  },
  {
   "cell_type": "markdown",
   "metadata": {},
   "source": [
    "## ACTIVIDAD 7: Función para simular un error\n",
    "Cree la función error(G) que simule un error en la red G.\n",
    "\n",
    "1) error(G) - Recibe una red G, elimina un nodo i aleatoreamente y devuelve la nueva red G (sin el nodo i)"
   ]
  },
  {
   "cell_type": "code",
   "execution_count": null,
   "metadata": {},
   "outputs": [],
   "source": [
    "def error(G):\n",
    "\n",
    "    return G"
   ]
  },
  {
   "cell_type": "markdown",
   "metadata": {},
   "source": [
    "## ACTIVIDAD 8: Función para simular varios errores secuenciales\n",
    "Cree la función errores_secuenciales(G,num_errores)\n",
    "\n",
    "2) errores_secuenciales(G,num_errores) - Recibe una red G y un entero \"num_errores\" que indica la cantidad de errores que ocurrirán en la red. Secuencialmente llama \"num_errores\" veces a la función error(G). Después de cada error almacena en una lista el número de componentes conectados de G y en otra lista la proporción del componente gigante. Devuleve la tupla (num_cc_lista, prop_cg_lista), en donde num_cc_lista es una lista de enteros cuyos elementos indican el numero de componentes conectados después de cada error. Mientras que prop_cg_lista es una lista de flotantes cuyos elementos indican la proporción del compoente gigante después de cada error."
   ]
  },
  {
   "cell_type": "code",
   "execution_count": null,
   "metadata": {},
   "outputs": [],
   "source": [
    "def errores_secuenciales(G,num_errores):\n",
    "\n",
    "    return (num_cc_lista, prop_cg_lista)"
   ]
  },
  {
   "cell_type": "markdown",
   "metadata": {},
   "source": [
    "# Funciones para simular de Ataques"
   ]
  },
  {
   "cell_type": "markdown",
   "metadata": {},
   "source": [
    "## ACTIVIDAD 9: Función para simular un ataque por grado nodal\n",
    "Cree la función ataque_grado(G) que simule un ataque por grado nodal en la red G.\n",
    "\n",
    "1) ataque_grado(G) - Recibe una red G, elimina el nodo i de más alto grado grado y devuelve la nueva red G (sin el nodo i). Opcionalmente puede crear una función nodo_max_grado(G) que devuelva el nodo de grado mas alto en G. Después puede llamar esta función desde la función ataque_grado(G)"
   ]
  },
  {
   "cell_type": "code",
   "execution_count": null,
   "metadata": {},
   "outputs": [],
   "source": [
    "def ataque_grado(G):\n",
    "\n",
    "    return G"
   ]
  },
  {
   "cell_type": "markdown",
   "metadata": {},
   "source": [
    "## ACTIVIDAD 10: Función para simular varios ataques (por grado nodal) secuenciales\n",
    "Cree la función ataques_secuenciales(G,num_ataques)\n",
    "\n",
    "2) ataques_secuenciales(G,num_ataques) - Recibe una red G y un entero \"num_ataques\" que indica la cantidad de ataques que ocurrirán en la red. Secuencialmente llama \"num_ataques\" veces a la función ataque(G). Después de cada ataque almacena en una lista el número de componentes conectados de G y en otra lista la proporción del componente gigante. Devuleve la tupla (num_cc_lista, prop_cg_lista), en donde num_cc_lista es una lista de enteros cuyos elementos indican el numero de componentes conectados después de cada error. Mientras que prop_cg_lista es una lista de flotantes cuyos elementos indican la proporción del compoente gigante después de cada error."
   ]
  },
  {
   "cell_type": "code",
   "execution_count": 112,
   "metadata": {},
   "outputs": [],
   "source": [
    "def ataques_secuenciales(G,num_ataques):\n",
    "\n",
    "    return (num_cc_lista, prop_cg_lista)"
   ]
  },
  {
   "cell_type": "markdown",
   "metadata": {},
   "source": [
    "# Evaluación de redes sometidas a errores - Red de escala libre vs. red de aleatoria"
   ]
  },
  {
   "cell_type": "markdown",
   "metadata": {},
   "source": [
    "## ACTIVIDAD 11: Creación de la redes de escala libre y aleatoria\n",
    "Creamos una red aleatoria Erdos-Renyi (con parámetro p=0.1) y una red de escala libre Barabasi-Albert (con parámetro m=5), imprimos la información de ambas redes y las dibujamos y guardamos ambas imagenes"
   ]
  },
  {
   "cell_type": "code",
   "execution_count": 3,
   "metadata": {},
   "outputs": [],
   "source": [
    "# Barabasi-Albert"
   ]
  },
  {
   "cell_type": "code",
   "execution_count": 4,
   "metadata": {},
   "outputs": [],
   "source": [
    "# Erdos-Renyi"
   ]
  },
  {
   "cell_type": "markdown",
   "metadata": {},
   "source": [
    "## ACTIVIDAD 12: Distribución de grados\n",
    "Llama a la función para graficar las distribucion de grados de las redes creadas y guarda ambas imagenes. Cada función llamela en una celda separada de código para que así pueda visualizar ambas figuras"
   ]
  },
  {
   "cell_type": "code",
   "execution_count": 5,
   "metadata": {},
   "outputs": [],
   "source": [
    "# Distribucion de grados BA"
   ]
  },
  {
   "cell_type": "code",
   "execution_count": 6,
   "metadata": {},
   "outputs": [],
   "source": [
    "# Distribucion de grados ER"
   ]
  },
  {
   "cell_type": "markdown",
   "metadata": {},
   "source": [
    "## ACTIVIDAD 13: Mapas de calor por grado nodal\n",
    "Llama a la función para graficar los mapas de calor por grado nodal de las redes creadas y guarda ambas imagenes. Cada función llamela en una celda separada de código para que así pueda visualizar ambas figuras"
   ]
  },
  {
   "cell_type": "code",
   "execution_count": 7,
   "metadata": {
    "scrolled": true
   },
   "outputs": [],
   "source": [
    "# Mapa de calor BA"
   ]
  },
  {
   "cell_type": "code",
   "execution_count": 8,
   "metadata": {
    "scrolled": true
   },
   "outputs": [],
   "source": [
    "# Mapa de calor ER"
   ]
  },
  {
   "cell_type": "markdown",
   "metadata": {},
   "source": [
    "## ACTIVIDAD 14: Simulación de errores secuenciales\n",
    "Utilizando la función errores_secuenciales simula 99 errores en cada una de las redes creadas. En ambos casos, almacena las listas de: cantidad de componentes conectados y las proporcion del componente gigante.\n",
    "\n",
    "Es importante que la función errores_secuenciales reciba como paŕametro una copia de la red que se va a evaluar, de otro modo se modificará la red original."
   ]
  },
  {
   "cell_type": "code",
   "execution_count": 105,
   "metadata": {},
   "outputs": [],
   "source": []
  },
  {
   "cell_type": "markdown",
   "metadata": {},
   "source": [
    "## ACTIVIDAD 15: Grafica de los componentes conectados vs. número de errores\n",
    "Utilizando la función grafica_funciones, grafique la cantidad de componentes conectados vs el número de errroes"
   ]
  },
  {
   "cell_type": "code",
   "execution_count": null,
   "metadata": {
    "scrolled": true
   },
   "outputs": [],
   "source": []
  },
  {
   "cell_type": "markdown",
   "metadata": {},
   "source": [
    "## ACTIVIDAD 16: Grafica de la proporción del componente gigante vs. número de errores\n",
    "Utilizando la función grafica_funciones, grafique la proporción del componente gigante vs el número de errroes"
   ]
  },
  {
   "cell_type": "code",
   "execution_count": null,
   "metadata": {
    "scrolled": true
   },
   "outputs": [],
   "source": []
  },
  {
   "cell_type": "markdown",
   "metadata": {},
   "source": [
    "## ACTVIDAD 17 Simulación de ataques (por grado nodal) secuenciales\n",
    "Utilizando la función ataques_secuenciales simula 99 ataques en cada una de las redes creadas. En ambos casos, almacena las listas de: cantidad de componentes conectados y las proporcion del componente gigante.\n",
    "\n",
    "Es importante que la función errores_secuenciales reciba como paŕametro una copia de la red que se va a evaluar, de otro modo se modificará la red original."
   ]
  },
  {
   "cell_type": "code",
   "execution_count": 113,
   "metadata": {},
   "outputs": [],
   "source": []
  },
  {
   "cell_type": "markdown",
   "metadata": {},
   "source": [
    "## ACTVIDAD 18 Grafica de los componentes conectados vs. número de errores\n",
    "Utilizando la función grafica_funciones, grafique la cantidad de componentes conectados vs el número de errroes"
   ]
  },
  {
   "cell_type": "code",
   "execution_count": null,
   "metadata": {
    "scrolled": false
   },
   "outputs": [],
   "source": []
  },
  {
   "cell_type": "markdown",
   "metadata": {},
   "source": [
    "## ACTVIDAD 19: Grafica de la proporción del componente gigante vs. número de errores\n",
    "Utilizando la función grafica_funciones, grafique la proporción del componente gigante vs el número de errroes"
   ]
  },
  {
   "cell_type": "code",
   "execution_count": null,
   "metadata": {},
   "outputs": [],
   "source": []
  }
 ],
 "metadata": {
  "kernelspec": {
   "display_name": "Python 3",
   "language": "python",
   "name": "python3"
  },
  "language_info": {
   "codemirror_mode": {
    "name": "ipython",
    "version": 3
   },
   "file_extension": ".py",
   "mimetype": "text/x-python",
   "name": "python",
   "nbconvert_exporter": "python",
   "pygments_lexer": "ipython3",
   "version": "3.7.6"
  }
 },
 "nbformat": 4,
 "nbformat_minor": 4
}
